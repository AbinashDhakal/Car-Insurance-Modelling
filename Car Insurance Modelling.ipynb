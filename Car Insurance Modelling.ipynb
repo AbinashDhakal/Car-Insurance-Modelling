{
 "cells": [
  {
   "cell_type": "markdown",
   "id": "1f4564ed",
   "metadata": {},
   "source": [
    "# Car Insurance Modelling"
   ]
  },
  {
   "cell_type": "markdown",
   "id": "dd848d7b",
   "metadata": {},
   "source": [
    "Car Insurance Modelling involves using statistical and mathematical models to accurately predict variables like claim frequency, severity, and total cost. This predictive capability is crucial for setting insurance product prices, efficient risk management, and optimizing overall business strategies.\n",
    "\n",
    "\n",
    "\n",
    "\n"
   ]
  },
  {
   "cell_type": "markdown",
   "id": "90825201",
   "metadata": {},
   "source": [
    "Car Insurance Modelling is a statistical approach used by Insurance companies to predict and assess risks associated with insuring cars and drivers. It typically involves using historical data on insurance claims, customer demographics, vehicle details, and other relevant factors to predict future claims, set premiums, and understand risk factors.\n",
    "\n",
    "The dataset provided for Car Insurance Modelling consists of information related to drivers and their vehicle claims. Key variables include:\n",
    "\n",
    "age_of_driver: The age of the driver. <br>\n",
    "car_age: The age of the car in years.<br>\n",
    "region: The geographical region where the driver resides (e.g., Urban, Rural, Suburban).<br>\n",
    "number_of_claims: The count of claims made by the driver.<br>"
   ]
  },
  {
   "cell_type": "code",
   "execution_count": 210,
   "id": "67e45591",
   "metadata": {},
   "outputs": [],
   "source": [
    "import pandas as pd\n",
    "import matplotlib.pyplot as plt\n",
    "import seaborn as sns\n",
    "import statsmodels.api as sm"
   ]
  },
  {
   "cell_type": "code",
   "execution_count": 211,
   "id": "7b28e74d",
   "metadata": {},
   "outputs": [
    {
     "data": {
      "text/html": [
       "<div>\n",
       "<style scoped>\n",
       "    .dataframe tbody tr th:only-of-type {\n",
       "        vertical-align: middle;\n",
       "    }\n",
       "\n",
       "    .dataframe tbody tr th {\n",
       "        vertical-align: top;\n",
       "    }\n",
       "\n",
       "    .dataframe thead th {\n",
       "        text-align: right;\n",
       "    }\n",
       "</style>\n",
       "<table border=\"1\" class=\"dataframe\">\n",
       "  <thead>\n",
       "    <tr style=\"text-align: right;\">\n",
       "      <th></th>\n",
       "      <th>age_of_driver</th>\n",
       "      <th>car_age</th>\n",
       "      <th>region</th>\n",
       "      <th>number_of_claims</th>\n",
       "    </tr>\n",
       "  </thead>\n",
       "  <tbody>\n",
       "    <tr>\n",
       "      <th>0</th>\n",
       "      <td>30</td>\n",
       "      <td>7</td>\n",
       "      <td>Urban</td>\n",
       "      <td>0</td>\n",
       "    </tr>\n",
       "    <tr>\n",
       "      <th>1</th>\n",
       "      <td>33</td>\n",
       "      <td>10</td>\n",
       "      <td>Rural</td>\n",
       "      <td>2</td>\n",
       "    </tr>\n",
       "    <tr>\n",
       "      <th>2</th>\n",
       "      <td>39</td>\n",
       "      <td>11</td>\n",
       "      <td>Suburban</td>\n",
       "      <td>1</td>\n",
       "    </tr>\n",
       "    <tr>\n",
       "      <th>3</th>\n",
       "      <td>18</td>\n",
       "      <td>12</td>\n",
       "      <td>Urban</td>\n",
       "      <td>0</td>\n",
       "    </tr>\n",
       "    <tr>\n",
       "      <th>4</th>\n",
       "      <td>21</td>\n",
       "      <td>8</td>\n",
       "      <td>Urban</td>\n",
       "      <td>0</td>\n",
       "    </tr>\n",
       "  </tbody>\n",
       "</table>\n",
       "</div>"
      ],
      "text/plain": [
       "   age_of_driver  car_age    region  number_of_claims\n",
       "0             30        7     Urban                 0\n",
       "1             33       10     Rural                 2\n",
       "2             39       11  Suburban                 1\n",
       "3             18       12     Urban                 0\n",
       "4             21        8     Urban                 0"
      ]
     },
     "execution_count": 211,
     "metadata": {},
     "output_type": "execute_result"
    }
   ],
   "source": [
    "insurance_data = pd.read_csv(\"insurance_claims.csv\")\n",
    "insurance_data.head()"
   ]
  },
  {
   "cell_type": "code",
   "execution_count": 212,
   "id": "01cb00cc",
   "metadata": {},
   "outputs": [
    {
     "data": {
      "text/html": [
       "<div>\n",
       "<style scoped>\n",
       "    .dataframe tbody tr th:only-of-type {\n",
       "        vertical-align: middle;\n",
       "    }\n",
       "\n",
       "    .dataframe tbody tr th {\n",
       "        vertical-align: top;\n",
       "    }\n",
       "\n",
       "    .dataframe thead th {\n",
       "        text-align: right;\n",
       "    }\n",
       "</style>\n",
       "<table border=\"1\" class=\"dataframe\">\n",
       "  <thead>\n",
       "    <tr style=\"text-align: right;\">\n",
       "      <th></th>\n",
       "      <th>age_of_driver</th>\n",
       "      <th>car_age</th>\n",
       "      <th>region</th>\n",
       "      <th>number_of_claims</th>\n",
       "    </tr>\n",
       "  </thead>\n",
       "  <tbody>\n",
       "    <tr>\n",
       "      <th>count</th>\n",
       "      <td>1000.000000</td>\n",
       "      <td>1000.000000</td>\n",
       "      <td>1000</td>\n",
       "      <td>1000.000000</td>\n",
       "    </tr>\n",
       "    <tr>\n",
       "      <th>unique</th>\n",
       "      <td>NaN</td>\n",
       "      <td>NaN</td>\n",
       "      <td>3</td>\n",
       "      <td>NaN</td>\n",
       "    </tr>\n",
       "    <tr>\n",
       "      <th>top</th>\n",
       "      <td>NaN</td>\n",
       "      <td>NaN</td>\n",
       "      <td>Rural</td>\n",
       "      <td>NaN</td>\n",
       "    </tr>\n",
       "    <tr>\n",
       "      <th>freq</th>\n",
       "      <td>NaN</td>\n",
       "      <td>NaN</td>\n",
       "      <td>343</td>\n",
       "      <td>NaN</td>\n",
       "    </tr>\n",
       "    <tr>\n",
       "      <th>mean</th>\n",
       "      <td>33.112000</td>\n",
       "      <td>6.673000</td>\n",
       "      <td>NaN</td>\n",
       "      <td>0.675000</td>\n",
       "    </tr>\n",
       "    <tr>\n",
       "      <th>std</th>\n",
       "      <td>9.253598</td>\n",
       "      <td>4.377583</td>\n",
       "      <td>NaN</td>\n",
       "      <td>0.822223</td>\n",
       "    </tr>\n",
       "    <tr>\n",
       "      <th>min</th>\n",
       "      <td>18.000000</td>\n",
       "      <td>0.000000</td>\n",
       "      <td>NaN</td>\n",
       "      <td>0.000000</td>\n",
       "    </tr>\n",
       "    <tr>\n",
       "      <th>25%</th>\n",
       "      <td>25.000000</td>\n",
       "      <td>3.000000</td>\n",
       "      <td>NaN</td>\n",
       "      <td>0.000000</td>\n",
       "    </tr>\n",
       "    <tr>\n",
       "      <th>50%</th>\n",
       "      <td>33.000000</td>\n",
       "      <td>6.000000</td>\n",
       "      <td>NaN</td>\n",
       "      <td>0.000000</td>\n",
       "    </tr>\n",
       "    <tr>\n",
       "      <th>75%</th>\n",
       "      <td>41.000000</td>\n",
       "      <td>11.000000</td>\n",
       "      <td>NaN</td>\n",
       "      <td>1.000000</td>\n",
       "    </tr>\n",
       "    <tr>\n",
       "      <th>max</th>\n",
       "      <td>49.000000</td>\n",
       "      <td>14.000000</td>\n",
       "      <td>NaN</td>\n",
       "      <td>5.000000</td>\n",
       "    </tr>\n",
       "  </tbody>\n",
       "</table>\n",
       "</div>"
      ],
      "text/plain": [
       "        age_of_driver      car_age region  number_of_claims\n",
       "count     1000.000000  1000.000000   1000       1000.000000\n",
       "unique            NaN          NaN      3               NaN\n",
       "top               NaN          NaN  Rural               NaN\n",
       "freq              NaN          NaN    343               NaN\n",
       "mean        33.112000     6.673000    NaN          0.675000\n",
       "std          9.253598     4.377583    NaN          0.822223\n",
       "min         18.000000     0.000000    NaN          0.000000\n",
       "25%         25.000000     3.000000    NaN          0.000000\n",
       "50%         33.000000     6.000000    NaN          0.000000\n",
       "75%         41.000000    11.000000    NaN          1.000000\n",
       "max         49.000000    14.000000    NaN          5.000000"
      ]
     },
     "execution_count": 212,
     "metadata": {},
     "output_type": "execute_result"
    }
   ],
   "source": [
    "insurance_data.describe(include='all')"
   ]
  },
  {
   "cell_type": "code",
   "execution_count": 213,
   "id": "57c06124",
   "metadata": {},
   "outputs": [
    {
     "data": {
      "text/html": [
       "<div>\n",
       "<style scoped>\n",
       "    .dataframe tbody tr th:only-of-type {\n",
       "        vertical-align: middle;\n",
       "    }\n",
       "\n",
       "    .dataframe tbody tr th {\n",
       "        vertical-align: top;\n",
       "    }\n",
       "\n",
       "    .dataframe thead th {\n",
       "        text-align: right;\n",
       "    }\n",
       "</style>\n",
       "<table border=\"1\" class=\"dataframe\">\n",
       "  <thead>\n",
       "    <tr style=\"text-align: right;\">\n",
       "      <th></th>\n",
       "      <th>age_of_driver</th>\n",
       "      <th>car_age</th>\n",
       "      <th>number_of_claims</th>\n",
       "    </tr>\n",
       "  </thead>\n",
       "  <tbody>\n",
       "    <tr>\n",
       "      <th>count</th>\n",
       "      <td>1000.000000</td>\n",
       "      <td>1000.000000</td>\n",
       "      <td>1000.000000</td>\n",
       "    </tr>\n",
       "    <tr>\n",
       "      <th>mean</th>\n",
       "      <td>33.112000</td>\n",
       "      <td>6.673000</td>\n",
       "      <td>0.675000</td>\n",
       "    </tr>\n",
       "    <tr>\n",
       "      <th>std</th>\n",
       "      <td>9.253598</td>\n",
       "      <td>4.377583</td>\n",
       "      <td>0.822223</td>\n",
       "    </tr>\n",
       "    <tr>\n",
       "      <th>min</th>\n",
       "      <td>18.000000</td>\n",
       "      <td>0.000000</td>\n",
       "      <td>0.000000</td>\n",
       "    </tr>\n",
       "    <tr>\n",
       "      <th>25%</th>\n",
       "      <td>25.000000</td>\n",
       "      <td>3.000000</td>\n",
       "      <td>0.000000</td>\n",
       "    </tr>\n",
       "    <tr>\n",
       "      <th>50%</th>\n",
       "      <td>33.000000</td>\n",
       "      <td>6.000000</td>\n",
       "      <td>0.000000</td>\n",
       "    </tr>\n",
       "    <tr>\n",
       "      <th>75%</th>\n",
       "      <td>41.000000</td>\n",
       "      <td>11.000000</td>\n",
       "      <td>1.000000</td>\n",
       "    </tr>\n",
       "    <tr>\n",
       "      <th>max</th>\n",
       "      <td>49.000000</td>\n",
       "      <td>14.000000</td>\n",
       "      <td>5.000000</td>\n",
       "    </tr>\n",
       "  </tbody>\n",
       "</table>\n",
       "</div>"
      ],
      "text/plain": [
       "       age_of_driver      car_age  number_of_claims\n",
       "count    1000.000000  1000.000000       1000.000000\n",
       "mean       33.112000     6.673000          0.675000\n",
       "std         9.253598     4.377583          0.822223\n",
       "min        18.000000     0.000000          0.000000\n",
       "25%        25.000000     3.000000          0.000000\n",
       "50%        33.000000     6.000000          0.000000\n",
       "75%        41.000000    11.000000          1.000000\n",
       "max        49.000000    14.000000          5.000000"
      ]
     },
     "execution_count": 213,
     "metadata": {},
     "output_type": "execute_result"
    }
   ],
   "source": [
    "insurance_data.describe()"
   ]
  },
  {
   "cell_type": "code",
   "execution_count": 214,
   "id": "cb98c2fb",
   "metadata": {},
   "outputs": [
    {
     "data": {
      "text/plain": [
       "age_of_driver       0\n",
       "car_age             0\n",
       "region              0\n",
       "number_of_claims    0\n",
       "dtype: int64"
      ]
     },
     "execution_count": 214,
     "metadata": {},
     "output_type": "execute_result"
    }
   ],
   "source": [
    "insurance_data.isnull().sum()"
   ]
  },
  {
   "cell_type": "code",
   "execution_count": 215,
   "id": "d6c4a40d",
   "metadata": {},
   "outputs": [
    {
     "data": {
      "text/plain": [
       "age_of_driver       0\n",
       "car_age             0\n",
       "region              0\n",
       "number_of_claims    0\n",
       "dtype: int64"
      ]
     },
     "execution_count": 215,
     "metadata": {},
     "output_type": "execute_result"
    }
   ],
   "source": [
    " insurance_data.isna().sum()"
   ]
  },
  {
   "cell_type": "markdown",
   "id": "38fde8cb",
   "metadata": {},
   "source": [
    "<b>Exploring Distributions: Age of Driver, Car Age, and Number of Claims in Insurance Data"
   ]
  },
  {
   "cell_type": "code",
   "execution_count": 216,
   "id": "227af8ac",
   "metadata": {},
   "outputs": [
    {
     "data": {
      "image/png": "[encoded data removed]",
      "text/plain": [
       "<Figure size 1800x500 with 3 Axes>"
      ]
     },
     "metadata": {},
     "output_type": "display_data"
    }
   ],
   "source": [
    "sns.set_style(\"whitegrid\")\n",
    "fig, ax = plt.subplots(1,3,figsize = (18,5))\n",
    "1\n",
    "sns.histplot(insurance_data['age_of_driver'], kde = True, bins= 15, ax = ax[0])\n",
    "ax[0].set_title('Age of Driver Distribution')\n",
    "\n",
    "sns.histplot(insurance_data['car_age'], kde=True, bins=15, ax=ax[1])\n",
    "ax[1].set_title('Car Age Distribution')\n",
    "\n",
    "sns.histplot(insurance_data['number_of_claims'], kde=False, bins=6, ax=ax[2])\n",
    "ax[2].set_title('Number of Claims Distribution')\n",
    "\n",
    "plt.tight_layout()\n",
    "plt.show()"
   ]
  },
  {
   "cell_type": "code",
   "execution_count": 217,
   "id": "f587f8c1",
   "metadata": {},
   "outputs": [
    {
     "data": {
      "text/plain": [
       "array([<AxesSubplot:title={'center':'Age of Driver Distribution'}, xlabel='age_of_driver', ylabel='Count'>,\n",
       "       <AxesSubplot:title={'center':'Car Age Distribution'}, xlabel='car_age', ylabel='Count'>,\n",
       "       <AxesSubplot:title={'center':'Number of Claims Distribution'}, xlabel='number_of_claims', ylabel='Count'>],\n",
       "      dtype=object)"
      ]
     },
     "execution_count": 217,
     "metadata": {},
     "output_type": "execute_result"
    }
   ],
   "source": [
    "ax"
   ]
  },
  {
   "cell_type": "markdown",
   "id": "3ae0cc00",
   "metadata": {},
   "source": [
    "<b> Data Preprocessing\n"
   ]
  },
  {
   "cell_type": "markdown",
   "id": "8a360662",
   "metadata": {},
   "source": [
    "Data preprocessing ensures that raw data is transformed into a clean, organised format suitable for analysis. The concept of a Data Preprocessing Pipeline is introduced—an automated approach that streamlines multiple preprocessing tasks in a cohesive workflow using Python.\n",
    "\n",
    "The pipeline addresses tasks such as handling missing values, standardising variables, and removing outliers. It ensures consistency and efficiency by providing a systematic sequence of operations, including imputing missing values, scaling numeric features, and encoding categorical variables."
   ]
  },
  {
   "cell_type": "code",
   "execution_count": 218,
   "id": "f56da7fa",
   "metadata": {},
   "outputs": [],
   "source": [
    "import numpy as np\n",
    "from sklearn.preprocessing import StandardScaler\n",
    "\n",
    "import numpy as np\n",
    "import pandas as pd\n",
    "from sklearn.preprocessing import StandardScaler\n",
    "\n",
    "def data_preprocessing_pipeline(data):\n",
    "    # Identify numeric and categorical features\n",
    "    numeric_features = data.select_dtypes(include=['float', 'int']).columns\n",
    "    categorical_features = data.select_dtypes(include=['object']).columns\n",
    "\n",
    "    # Handle missing values in numeric features\n",
    "    data[numeric_features] = data[numeric_features].fillna(data[numeric_features].mean())\n",
    "\n",
    "    # Detect and handle outliers in numeric features using IQR\n",
    "    for feature in numeric_features:\n",
    "        Q1 = data[feature].quantile(0.25)\n",
    "        Q3 = data[feature].quantile(0.75)\n",
    "        IQR = Q3 - Q1\n",
    "        lower_bound = Q1 - (1.5 * IQR)\n",
    "        upper_bound = Q3 + (1.5 * IQR)\n",
    "        data[feature] = np.where((data[feature] < lower_bound) | (data[feature] > upper_bound),\n",
    "                                 data[feature].mean(), data[feature])\n",
    "\n",
    "    # Normalize numeric features\n",
    "    scaler = StandardScaler()\n",
    "    scaled_data = scaler.fit_transform(data[numeric_features])\n",
    "    unscaled_data = scaler.inverse_transform(scaled_data)  # Corrected this line\n",
    "    data[numeric_features] = unscaled_data\n",
    "\n",
    "    # Handle missing values in categorical features\n",
    "    data[categorical_features] = data[categorical_features].fillna(data[categorical_features].mode().iloc[0])\n",
    "\n",
    "    return data\n"
   ]
  },
  {
   "cell_type": "code",
   "execution_count": null,
   "id": "217e4106",
   "metadata": {},
   "outputs": [],
   "source": []
  },
  {
   "cell_type": "markdown",
   "id": "e41a18b5",
   "metadata": {},
   "source": [
    "This comprehensive preprocessing pipeline is designed to handle diverse tasks on any dataset:\n",
    "\n",
    "Identification of Features: <br>\n",
    "The pipeline begins by categorizing features into numeric and categorical types.\n",
    "\n",
    "Dealing with Missing Values in Numeric Features:<br>\n",
    "For numeric features, missing values are filled with the mean of each respective feature.\n",
    "Ensures missing data does not hinder subsequent analysis.\n",
    "\n",
    "Handling Outliers in Numeric Features:<br>\n",
    "Outliers in numeric features are addressed using the Interquartile Range (IQR) method.\n",
    "Upper and lower boundaries are calculated, and values outside these limits are replaced with the mean.\n",
    "Mitigates the impact of extreme values on analyses and model building.\n",
    "\n",
    "Normalizing Numeric Features:<br>\n",
    "After managing missing values and outliers, numeric features are normalized.\n",
    "Ensures equal contribution of all numeric features, preventing biases from varying magnitudes.\n",
    "\n",
    "Dealing with Missing Values in Categorical Features:<br>\n",
    "The pipeline addresses missing values in categorical features by filling them with the mode (most frequent category).\n",
    "Ensures completeness in categorical data."
   ]
  },
  {
   "cell_type": "code",
   "execution_count": 219,
   "id": "8c70faa9",
   "metadata": {},
   "outputs": [
    {
     "name": "stdout",
     "output_type": "stream",
     "text": [
      "Origina Data:      age_of_driver  car_age    region  number_of_claims\n",
      "0               30        7     Urban                 0\n",
      "1               33       10     Rural                 2\n",
      "2               39       11  Suburban                 1\n",
      "3               18       12     Urban                 0\n",
      "4               21        8     Urban                 0\n",
      "..             ...      ...       ...               ...\n",
      "995             46        0     Rural                 0\n",
      "996             26        1  Suburban                 0\n",
      "997             36        1     Rural                 1\n",
      "998             43        8     Urban                 0\n",
      "999             42        9  Suburban                 2\n",
      "\n",
      "[1000 rows x 4 columns]\n"
     ]
    }
   ],
   "source": [
    "print(\"Origina Data:\", insurance_data)"
   ]
  },
  {
   "cell_type": "code",
   "execution_count": 220,
   "id": "879312e9",
   "metadata": {},
   "outputs": [
    {
     "name": "stdout",
     "output_type": "stream",
     "text": [
      "Cleaned and Normalized Data:\n",
      "     age_of_driver  car_age    region  number_of_claims\n",
      "0             30.0      7.0     Urban               0.0\n",
      "1             33.0     10.0     Rural               2.0\n",
      "2             39.0     11.0  Suburban               1.0\n",
      "3             18.0     12.0     Urban               0.0\n",
      "4             21.0      8.0     Urban               0.0\n",
      "..             ...      ...       ...               ...\n",
      "995           46.0      0.0     Rural               0.0\n",
      "996           26.0      1.0  Suburban               0.0\n",
      "997           36.0      1.0     Rural               1.0\n",
      "998           43.0      8.0     Urban               0.0\n",
      "999           42.0      9.0  Suburban               2.0\n",
      "\n",
      "[1000 rows x 4 columns]\n"
     ]
    }
   ],
   "source": [
    "# Apply the preprocessing pipeline to the original data\n",
    "cleaned_data = data_preprocessing_pipeline(insurance_data)\n",
    "\n",
    "# Display the cleaned and normalized data\n",
    "print(\"Cleaned and Normalized Data:\")\n",
    "print(cleaned_data)"
   ]
  },
  {
   "cell_type": "code",
   "execution_count": 221,
   "id": "9d7b7863",
   "metadata": {},
   "outputs": [
    {
     "data": {
      "text/plain": [
       "'# Unnormalize the numeric features\\ncleaned_data[numeric_features] = scaler.inverse_transform(cleaned_data[numeric_features])\\n\\n# Display the unnormalized data\\nprint(\"Unnormalized Data:\")\\nprint(cleaned_data)'"
      ]
     },
     "execution_count": 221,
     "metadata": {},
     "output_type": "execute_result"
    }
   ],
   "source": [
    "\"\"\"# Unnormalize the numeric features\n",
    "cleaned_data[numeric_features] = scaler.inverse_transform(cleaned_data[numeric_features])\n",
    "\n",
    "# Display the unnormalized data\n",
    "print(\"Unnormalized Data:\")\n",
    "print(cleaned_data)\"\"\""
   ]
  },
  {
   "cell_type": "code",
   "execution_count": 222,
   "id": "cbc988cf",
   "metadata": {},
   "outputs": [
    {
     "data": {
      "text/plain": [
       "'# Unnormalize the numeric features\\ncleaned_data[numeric_features] = scaler.inverse_transform(cleaned_data[numeric_features])\\n\\n# Display the unnormalized data\\nprint(\"Unnormalized Data:\")\\nprint(cleaned_data)'"
      ]
     },
     "execution_count": 222,
     "metadata": {},
     "output_type": "execute_result"
    }
   ],
   "source": [
    "\"\"\"# Unnormalize the numeric features\n",
    "cleaned_data[numeric_features] = scaler.inverse_transform(cleaned_data[numeric_features])\n",
    "\n",
    "# Display the unnormalized data\n",
    "print(\"Unnormalized Data:\")\n",
    "print(cleaned_data)\"\"\""
   ]
  },
  {
   "cell_type": "code",
   "execution_count": 223,
   "id": "c2d37fda",
   "metadata": {},
   "outputs": [
    {
     "data": {
      "text/plain": [
       "'# Applying the preprocessing pipeline to the original data\\ncleaned_data = data_preprocessing_pipeline(insurance_data)\\nprint(\"Cleaned Data:\")\\nprint(cleaned_data[0])  '"
      ]
     },
     "execution_count": 223,
     "metadata": {},
     "output_type": "execute_result"
    }
   ],
   "source": [
    "\"\"\"# Applying the preprocessing pipeline to the original data\n",
    "cleaned_data = data_preprocessing_pipeline(insurance_data)\n",
    "print(\"Cleaned Data:\")\n",
    "print(cleaned_data[0])  \"\"\""
   ]
  },
  {
   "cell_type": "code",
   "execution_count": 224,
   "id": "7dd2235c",
   "metadata": {
    "scrolled": true
   },
   "outputs": [
    {
     "name": "stdout",
     "output_type": "stream",
     "text": [
      "     age_of_driver  car_age  number_of_claims  region_Suburban  region_Urban\n",
      "29            26.0     13.0               1.0                0             0\n",
      "535           42.0      9.0               2.0                1             0\n",
      "695           44.0      8.0               1.0                0             0\n",
      "557           41.0      3.0               1.0                1             0\n",
      "836           31.0     12.0               0.0                0             1\n"
     ]
    }
   ],
   "source": [
    "from sklearn.model_selection import train_test_split\n",
    "\n",
    "# One-Hot Encoding for 'region' variable\n",
    "insurance_data_encoded = pd.get_dummies(cleaned_data, columns=['region'], drop_first=True)\n",
    "\n",
    "# Splitting the data into training and testing sets\n",
    "train, test = train_test_split(insurance_data_encoded, test_size=0.2, random_state=42)\n",
    "\n",
    "print(train.head())"
   ]
  },
  {
   "cell_type": "code",
   "execution_count": null,
   "id": "fdd219c2",
   "metadata": {},
   "outputs": [],
   "source": []
  },
  {
   "cell_type": "markdown",
   "id": "de44c566",
   "metadata": {},
   "source": [
    "\n",
    "The data preprocessing involves converting the categorical 'region' variable into a numerical format suitable for modeling, using one-hot encoding. This technique creates new variables, 'region_Suburban' and 'region_Urban,' with 'region_Rural' as the baseline category. After preprocessing, the data is split into training (80%) and testing (20%) sets using the train_test_split"
   ]
  },
  {
   "cell_type": "code",
   "execution_count": 225,
   "id": "f4500137",
   "metadata": {},
   "outputs": [
    {
     "data": {
      "text/plain": [
       "const              0.000000\n",
       "age_of_driver      9.272930\n",
       "car_age            4.396437\n",
       "region_Suburban    0.475256\n",
       "region_Urban       0.463802\n",
       "dtype: float64"
      ]
     },
     "execution_count": 225,
     "metadata": {},
     "output_type": "execute_result"
    }
   ],
   "source": [
    "train['number_of_claims'].isnull().sum()\n",
    "X_train_const.isnull().sum()\n",
    "X_train_const.std()\n"
   ]
  },
  {
   "cell_type": "code",
   "execution_count": 226,
   "id": "51b7f0c2",
   "metadata": {},
   "outputs": [
    {
     "ename": "AttributeError",
     "evalue": "'Series' object has no attribute 'isinf'",
     "output_type": "error",
     "traceback": [
      "\u001b[1;31m---------------------------------------------------------------------------\u001b[0m",
      "\u001b[1;31mAttributeError\u001b[0m                            Traceback (most recent call last)",
      "\u001b[1;32m~\\AppData\\Local\\Temp\\ipykernel_16320\\1939131703.py\u001b[0m in \u001b[0;36m?\u001b[1;34m()\u001b[0m\n\u001b[1;32m----> 6\u001b[1;33m \u001b[1;31m# Preparing the data for modeling\u001b[0m\u001b[1;33m\u001b[0m\u001b[1;33m\u001b[0m\u001b[0m\n\u001b[0m\u001b[0;32m      7\u001b[0m \u001b[0mX_train\u001b[0m \u001b[1;33m=\u001b[0m \u001b[0mtrain\u001b[0m\u001b[1;33m.\u001b[0m\u001b[0mdrop\u001b[0m\u001b[1;33m(\u001b[0m\u001b[1;34m'number_of_claims'\u001b[0m\u001b[1;33m,\u001b[0m \u001b[0maxis\u001b[0m\u001b[1;33m=\u001b[0m\u001b[1;36m1\u001b[0m\u001b[1;33m)\u001b[0m\u001b[1;33m\u001b[0m\u001b[1;33m\u001b[0m\u001b[0m\n\u001b[0;32m      8\u001b[0m \u001b[0my_train\u001b[0m \u001b[1;33m=\u001b[0m \u001b[0mtrain\u001b[0m\u001b[1;33m[\u001b[0m\u001b[1;34m'number_of_claims'\u001b[0m\u001b[1;33m]\u001b[0m\u001b[1;33m\u001b[0m\u001b[1;33m\u001b[0m\u001b[0m\n\u001b[0;32m      9\u001b[0m \u001b[1;33m\u001b[0m\u001b[0m\n",
      "\u001b[1;32m~\\anaconda3\\lib\\site-packages\\pandas\\core\\generic.py\u001b[0m in \u001b[0;36m?\u001b[1;34m(self, name)\u001b[0m\n\u001b[0;32m   5571\u001b[0m             \u001b[1;32mand\u001b[0m \u001b[0mname\u001b[0m \u001b[1;32mnot\u001b[0m \u001b[1;32min\u001b[0m \u001b[0mself\u001b[0m\u001b[1;33m.\u001b[0m\u001b[0m_accessors\u001b[0m\u001b[1;33m\u001b[0m\u001b[1;33m\u001b[0m\u001b[0m\n\u001b[0;32m   5572\u001b[0m             \u001b[1;32mand\u001b[0m \u001b[0mself\u001b[0m\u001b[1;33m.\u001b[0m\u001b[0m_info_axis\u001b[0m\u001b[1;33m.\u001b[0m\u001b[0m_can_hold_identifiers_and_holds_name\u001b[0m\u001b[1;33m(\u001b[0m\u001b[0mname\u001b[0m\u001b[1;33m)\u001b[0m\u001b[1;33m\u001b[0m\u001b[1;33m\u001b[0m\u001b[0m\n\u001b[0;32m   5573\u001b[0m         ):\n\u001b[0;32m   5574\u001b[0m             \u001b[1;32mreturn\u001b[0m \u001b[0mself\u001b[0m\u001b[1;33m[\u001b[0m\u001b[0mname\u001b[0m\u001b[1;33m]\u001b[0m\u001b[1;33m\u001b[0m\u001b[1;33m\u001b[0m\u001b[0m\n\u001b[1;32m-> 5575\u001b[1;33m         \u001b[1;32mreturn\u001b[0m \u001b[0mobject\u001b[0m\u001b[1;33m.\u001b[0m\u001b[0m__getattribute__\u001b[0m\u001b[1;33m(\u001b[0m\u001b[0mself\u001b[0m\u001b[1;33m,\u001b[0m \u001b[0mname\u001b[0m\u001b[1;33m)\u001b[0m\u001b[1;33m\u001b[0m\u001b[1;33m\u001b[0m\u001b[0m\n\u001b[0m",
      "\u001b[1;31mAttributeError\u001b[0m: 'Series' object has no attribute 'isinf'"
     ]
    }
   ],
   "source": [
    "# Preparing the data for modeling\n",
    "X_train = train.drop('number_of_claims', axis=1)\n",
    "y_train = train['number_of_claims']\n",
    "\n",
    "train['number_of_claims'].isnull().sum()\n",
    "train['number_of_claims'].isinf().sum()\n",
    "# Adding constant to the predictor variables\n",
    "X_train_const = sm.add_constant(X_train)\n",
    "\n",
    "# Building the Poisson GLM model\n",
    "poisson_glm = sm.GLM(y_train, X_train_const, family=sm.families.Poisson()).fit()\n",
    "\n",
    "# Displaying the model summary\n",
    "poisson_glm.summary()"
   ]
  },
  {
   "cell_type": "code",
   "execution_count": 228,
   "id": "83965167",
   "metadata": {},
   "outputs": [
    {
     "name": "stdout",
     "output_type": "stream",
     "text": [
      "Missing values in 'number_of_claims': 0\n",
      "Infinite values in 'number_of_claims': 0\n",
      "Missing values in predictor variables:\n",
      "age_of_driver      0\n",
      "car_age            0\n",
      "region_Suburban    0\n",
      "region_Urban       0\n",
      "dtype: int64\n",
      "Infinite values in predictor variables:\n",
      "age_of_driver      0\n",
      "car_age            0\n",
      "region_Suburban    0\n",
      "region_Urban       0\n",
      "dtype: int64\n"
     ]
    },
    {
     "data": {
      "text/html": [
       "<table class=\"simpletable\">\n",
       "<caption>Generalized Linear Model Regression Results</caption>\n",
       "<tr>\n",
       "  <th>Dep. Variable:</th>   <td>number_of_claims</td> <th>  No. Observations:  </th>  <td>   800</td> \n",
       "</tr>\n",
       "<tr>\n",
       "  <th>Model:</th>                  <td>GLM</td>       <th>  Df Residuals:      </th>  <td>   795</td> \n",
       "</tr>\n",
       "<tr>\n",
       "  <th>Model Family:</th>         <td>Poisson</td>     <th>  Df Model:          </th>  <td>     4</td> \n",
       "</tr>\n",
       "<tr>\n",
       "  <th>Link Function:</th>          <td>Log</td>       <th>  Scale:             </th> <td>  1.0000</td>\n",
       "</tr>\n",
       "<tr>\n",
       "  <th>Method:</th>                <td>IRLS</td>       <th>  Log-Likelihood:    </th> <td> -765.08</td>\n",
       "</tr>\n",
       "<tr>\n",
       "  <th>Date:</th>            <td>Fri, 02 Feb 2024</td> <th>  Deviance:          </th> <td>  703.08</td>\n",
       "</tr>\n",
       "<tr>\n",
       "  <th>Time:</th>                <td>16:17:26</td>     <th>  Pearson chi2:      </th>  <td>  596.</td> \n",
       "</tr>\n",
       "<tr>\n",
       "  <th>No. Iterations:</th>          <td>5</td>        <th>  Pseudo R-squ. (CS):</th>  <td>0.01263</td>\n",
       "</tr>\n",
       "<tr>\n",
       "  <th>Covariance Type:</th>     <td>nonrobust</td>    <th>                     </th>     <td> </td>   \n",
       "</tr>\n",
       "</table>\n",
       "<table class=\"simpletable\">\n",
       "<tr>\n",
       "         <td></td>            <th>coef</th>     <th>std err</th>      <th>z</th>      <th>P>|z|</th>  <th>[0.025</th>    <th>0.975]</th>  \n",
       "</tr>\n",
       "<tr>\n",
       "  <th>const</th>           <td>   -0.2284</td> <td>    0.194</td> <td>   -1.179</td> <td> 0.238</td> <td>   -0.608</td> <td>    0.151</td>\n",
       "</tr>\n",
       "<tr>\n",
       "  <th>age_of_driver</th>   <td>   -0.0140</td> <td>    0.005</td> <td>   -2.787</td> <td> 0.005</td> <td>   -0.024</td> <td>   -0.004</td>\n",
       "</tr>\n",
       "<tr>\n",
       "  <th>car_age</th>         <td>    0.0128</td> <td>    0.011</td> <td>    1.217</td> <td> 0.224</td> <td>   -0.008</td> <td>    0.033</td>\n",
       "</tr>\n",
       "<tr>\n",
       "  <th>region_Suburban</th> <td>    0.0875</td> <td>    0.113</td> <td>    0.777</td> <td> 0.437</td> <td>   -0.133</td> <td>    0.308</td>\n",
       "</tr>\n",
       "<tr>\n",
       "  <th>region_Urban</th>    <td>    0.0792</td> <td>    0.116</td> <td>    0.685</td> <td> 0.493</td> <td>   -0.148</td> <td>    0.306</td>\n",
       "</tr>\n",
       "</table>"
      ],
      "text/latex": [
       "\\begin{center}\n",
       "\\begin{tabular}{lclc}\n",
       "\\toprule\n",
       "\\textbf{Dep. Variable:}   & number\\_of\\_claims & \\textbf{  No. Observations:  } &      800    \\\\\n",
       "\\textbf{Model:}           &        GLM         & \\textbf{  Df Residuals:      } &      795    \\\\\n",
       "\\textbf{Model Family:}    &      Poisson       & \\textbf{  Df Model:          } &        4    \\\\\n",
       "\\textbf{Link Function:}   &        Log         & \\textbf{  Scale:             } &    1.0000   \\\\\n",
       "\\textbf{Method:}          &        IRLS        & \\textbf{  Log-Likelihood:    } &   -765.08   \\\\\n",
       "\\textbf{Date:}            &  Fri, 02 Feb 2024  & \\textbf{  Deviance:          } &    703.08   \\\\\n",
       "\\textbf{Time:}            &      16:17:26      & \\textbf{  Pearson chi2:      } &     596.    \\\\\n",
       "\\textbf{No. Iterations:}  &         5          & \\textbf{  Pseudo R-squ. (CS):} &  0.01263    \\\\\n",
       "\\textbf{Covariance Type:} &     nonrobust      & \\textbf{                     } &             \\\\\n",
       "\\bottomrule\n",
       "\\end{tabular}\n",
       "\\begin{tabular}{lcccccc}\n",
       "                          & \\textbf{coef} & \\textbf{std err} & \\textbf{z} & \\textbf{P$> |$z$|$} & \\textbf{[0.025} & \\textbf{0.975]}  \\\\\n",
       "\\midrule\n",
       "\\textbf{const}            &      -0.2284  &        0.194     &    -1.179  &         0.238        &       -0.608    &        0.151     \\\\\n",
       "\\textbf{age\\_of\\_driver}  &      -0.0140  &        0.005     &    -2.787  &         0.005        &       -0.024    &       -0.004     \\\\\n",
       "\\textbf{car\\_age}         &       0.0128  &        0.011     &     1.217  &         0.224        &       -0.008    &        0.033     \\\\\n",
       "\\textbf{region\\_Suburban} &       0.0875  &        0.113     &     0.777  &         0.437        &       -0.133    &        0.308     \\\\\n",
       "\\textbf{region\\_Urban}    &       0.0792  &        0.116     &     0.685  &         0.493        &       -0.148    &        0.306     \\\\\n",
       "\\bottomrule\n",
       "\\end{tabular}\n",
       "%\\caption{Generalized Linear Model Regression Results}\n",
       "\\end{center}"
      ],
      "text/plain": [
       "<class 'statsmodels.iolib.summary.Summary'>\n",
       "\"\"\"\n",
       "                 Generalized Linear Model Regression Results                  \n",
       "==============================================================================\n",
       "Dep. Variable:       number_of_claims   No. Observations:                  800\n",
       "Model:                            GLM   Df Residuals:                      795\n",
       "Model Family:                 Poisson   Df Model:                            4\n",
       "Link Function:                    Log   Scale:                          1.0000\n",
       "Method:                          IRLS   Log-Likelihood:                -765.08\n",
       "Date:                Fri, 02 Feb 2024   Deviance:                       703.08\n",
       "Time:                        16:17:26   Pearson chi2:                     596.\n",
       "No. Iterations:                     5   Pseudo R-squ. (CS):            0.01263\n",
       "Covariance Type:            nonrobust                                         \n",
       "===================================================================================\n",
       "                      coef    std err          z      P>|z|      [0.025      0.975]\n",
       "-----------------------------------------------------------------------------------\n",
       "const              -0.2284      0.194     -1.179      0.238      -0.608       0.151\n",
       "age_of_driver      -0.0140      0.005     -2.787      0.005      -0.024      -0.004\n",
       "car_age             0.0128      0.011      1.217      0.224      -0.008       0.033\n",
       "region_Suburban     0.0875      0.113      0.777      0.437      -0.133       0.308\n",
       "region_Urban        0.0792      0.116      0.685      0.493      -0.148       0.306\n",
       "===================================================================================\n",
       "\"\"\""
      ]
     },
     "execution_count": 228,
     "metadata": {},
     "output_type": "execute_result"
    }
   ],
   "source": [
    "import numpy as np\n",
    "import pandas as pd\n",
    "import statsmodels.api as sm\n",
    "from sklearn.model_selection import train_test_split\n",
    "\n",
    "\n",
    "insurance_data_encoded = pd.get_dummies(cleaned_data, columns=['region'], drop_first=True)\n",
    "train, _ = train_test_split(insurance_data_encoded, test_size=0.2, random_state=42)\n",
    "\n",
    "# Preparing the data for modeling\n",
    "X_train = train.drop('number_of_claims', axis=1)\n",
    "y_train = train['number_of_claims']\n",
    "\n",
    "# Check for missing and infinite values in the target variable\n",
    "print(\"Missing values in 'number_of_claims':\", y_train.isnull().sum())\n",
    "print(\"Infinite values in 'number_of_claims':\", np.isinf(y_train).sum())\n",
    "\n",
    "# Check for missing and infinite values in predictor variables\n",
    "print(\"Missing values in predictor variables:\")\n",
    "print(X_train.isnull().sum())\n",
    "print(\"Infinite values in predictor variables:\")\n",
    "print(np.isinf(X_train).sum())\n",
    "\n",
    "# Handling missing and infinite values\n",
    "X_train = X_train.replace([np.inf, -np.inf], np.nan)\n",
    "X_train = X_train.dropna()\n",
    "\n",
    "# Adding constant to the predictor variables\n",
    "X_train_const = sm.add_constant(X_train)\n",
    "\n",
    "# Handling missing and infinite values in the target variable\n",
    "y_train = y_train.loc[X_train.index]\n",
    "\n",
    "# Building the Poisson GLM model\n",
    "poisson_glm = sm.GLM(y_train, X_train_const, family=sm.families.Poisson()).fit()\n",
    "\n",
    "# Displaying the model summary\n",
    "poisson_glm.summary()\n"
   ]
  },
  {
   "cell_type": "code",
   "execution_count": null,
   "id": "28a04ce6",
   "metadata": {},
   "outputs": [],
   "source": []
  },
  {
   "cell_type": "markdown",
   "id": "3692b275",
   "metadata": {},
   "source": [
    "<b>Interpretation:\n",
    "\n",
    "The model suggests that as drivers get older, the expected number of claims decreases significantly.\n",
    "There's some indication that car age might affect the number of claims, with older cars having more claims, but this isn't statistically significant in this model.\n",
    "The model does not find statistically significant evidence that being in suburban or urban regions affects the number of claims compared to being in a rural area."
   ]
  },
  {
   "cell_type": "markdown",
   "id": "2b79200c",
   "metadata": {},
   "source": [
    "# Summary\n",
    "The idea of car insurance modelling entails using statistical and mathematical models to predict different facets of insurance claims, such as claim frequency, severity, and overall cost. These predictions are vital for determining insurance product prices, managing risk effectively, and optimizing overall business strategies in the insurance industry. This article likely offers insights into the application of Python for car insurance modelling, presenting a practical approach to leveraging data and analytics in this field. If you have any questions or require further clarification, feel free to ask in the comments section.\n",
    "\n",
    "\n",
    "\n",
    "\n"
   ]
  },
  {
   "cell_type": "code",
   "execution_count": null,
   "id": "f481e576",
   "metadata": {},
   "outputs": [],
   "source": []
  }
 ],
 "metadata": {
  "kernelspec": {
   "display_name": "Python 3 (ipykernel)",
   "language": "python",
   "name": "python3"
  },
  "language_info": {
   "codemirror_mode": {
    "name": "ipython",
    "version": 3
   },
   "file_extension": ".py",
   "mimetype": "text/x-python",
   "name": "python",
   "nbconvert_exporter": "python",
   "pygments_lexer": "ipython3",
   "version": "3.9.13"
  }
 },
 "nbformat": 4,
 "nbformat_minor": 5
}
